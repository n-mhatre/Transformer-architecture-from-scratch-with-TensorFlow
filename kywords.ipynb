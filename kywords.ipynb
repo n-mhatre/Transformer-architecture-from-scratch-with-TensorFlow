{
 "cells": [
  {
   "cell_type": "code",
   "execution_count": null,
   "id": "6b348233",
   "metadata": {},
   "outputs": [],
   "source": [
    "import keyboard as k\n",
    "import time"
   ]
  },
  {
   "cell_type": "code",
   "execution_count": null,
   "id": "507236b6",
   "metadata": {},
   "outputs": [],
   "source": [
    "lines = set()\n",
    "\n",
    "with open('skill.txt', 'r') as file:\n",
    "    # Read each line and add it to the list\n",
    "    for line in file:\n",
    "        lines.add(line.strip().capitalize())\n",
    "        \n",
    "lines = sorted(lines)"
   ]
  },
  {
   "cell_type": "code",
   "execution_count": null,
   "id": "f65af722",
   "metadata": {},
   "outputs": [],
   "source": [
    "# tesing with small samples\n",
    "# lines = lines[:8]\n",
    "# lines"
   ]
  },
  {
   "cell_type": "code",
   "execution_count": null,
   "id": "2fc2070d",
   "metadata": {},
   "outputs": [],
   "source": [
    "i=0\n",
    "n = len(lines)\n",
    "\n",
    "def f1_Pressed():\n",
    "    for l in lines:\n",
    "        time.sleep(0.5)\n",
    "        k.write(l)\n",
    "        k.press_and_release(\"enter\")   \n",
    "        \n",
    "        if k.is_pressed('F4'):\n",
    "            print('F4 was pressed - Stopped')\n",
    "            break\n",
    "        time.sleep(0.5)\n",
    "        \n",
    "        \n",
    "def f4_Pressed():\n",
    "    print('F4 was pressed')\n",
    "    # Set the flag to stop the loop\n",
    "    return\n",
    "\n",
    "def f2_Pressed():\n",
    "    global i\n",
    "    i=0\n",
    "\n",
    "def f3_Pressed():\n",
    "    global i\n",
    "    k.write(lines[i%n])\n",
    "    k.press_and_release(\"enter\")\n",
    "    i+=1\n",
    "    \n",
    "    \n",
    "k.remap_hotkey(\"F1\", \"F8\")\n",
    "k.add_hotkey('F1', f1_Pressed)\n",
    "k.remap_hotkey(\"F2\", \"F8\")\n",
    "k.add_hotkey('F2', f2_Pressed)\n",
    "k.remap_hotkey(\"F3\", \"F8\")\n",
    "k.add_hotkey('F3', f3_Pressed)\n",
    "k.remap_hotkey(\"F4\", \"F8\")\n",
    "k.add_hotkey('F4', f4_Pressed)\n",
    "\n",
    "\n",
    "while True:\n",
    "    k.wait()"
   ]
  },
  {
   "cell_type": "code",
   "execution_count": null,
   "id": "9c65baf1",
   "metadata": {},
   "outputs": [],
   "source": [
    "A/b testing\n",
    "Ai\n",
    "Airflow\n",
    "Athena\n",
    "Aws\n",
    "Bigquery\n",
    "Classification\n",
    "Cloud\n",
    "Clustering\n",
    "Cnn\n",
    "Collaborative filtering (als)\n",
    "Data mining\n",
    "Data science\n",
    "Data visualizations\n",
    "Databases\n",
    "Datastudio\n",
    "Deep learning\n",
    "Flask\n",
    "Github\n",
    "Glue\n",
    "Google analytics\n",
    "Keras\n"
   ]
  },
  {
   "cell_type": "code",
   "execution_count": null,
   "id": "71b4318c",
   "metadata": {},
   "outputs": [],
   "source": []
  },
  {
   "cell_type": "code",
   "execution_count": null,
   "id": "f18045d2",
   "metadata": {},
   "outputs": [],
   "source": []
  },
  {
   "cell_type": "code",
   "execution_count": null,
   "id": "5df7156e",
   "metadata": {},
   "outputs": [],
   "source": []
  },
  {
   "cell_type": "code",
   "execution_count": null,
   "id": "1873f054",
   "metadata": {},
   "outputs": [],
   "source": []
  },
  {
   "cell_type": "code",
   "execution_count": null,
   "id": "78310a65",
   "metadata": {},
   "outputs": [],
   "source": []
  },
  {
   "cell_type": "code",
   "execution_count": null,
   "id": "c0f42ec9",
   "metadata": {},
   "outputs": [],
   "source": []
  },
  {
   "cell_type": "code",
   "execution_count": null,
   "id": "6d2f5bb0",
   "metadata": {},
   "outputs": [],
   "source": []
  },
  {
   "cell_type": "code",
   "execution_count": null,
   "id": "6de73ce2",
   "metadata": {},
   "outputs": [],
   "source": []
  },
  {
   "cell_type": "code",
   "execution_count": null,
   "id": "f1f2a288",
   "metadata": {},
   "outputs": [],
   "source": []
  }
 ],
 "metadata": {
  "kernelspec": {
   "display_name": "Python 3 (ipykernel)",
   "language": "python",
   "name": "python3"
  },
  "language_info": {
   "codemirror_mode": {
    "name": "ipython",
    "version": 3
   },
   "file_extension": ".py",
   "mimetype": "text/x-python",
   "name": "python",
   "nbconvert_exporter": "python",
   "pygments_lexer": "ipython3",
   "version": "3.9.17"
  }
 },
 "nbformat": 4,
 "nbformat_minor": 5
}
