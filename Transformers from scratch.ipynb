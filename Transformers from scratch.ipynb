{
  "cells": [
    {
      "cell_type": "code",
      "execution_count": null,
      "metadata": {
        "id": "5eMMJssyxQ-J"
      },
      "outputs": [],
      "source": [
        "#!pip install --upgrade tensorflow"
      ]
    },
    {
      "cell_type": "code",
      "execution_count": null,
      "metadata": {
        "id": "C24JKO7LxP3O"
      },
      "outputs": [],
      "source": [
        "import tensorflow as tf### models\n",
        "import numpy as np### math computations\n",
        "import matplotlib.pyplot as plt### plotting bar chart\n",
        "import sklearn### machine learning library\n",
        "from sklearn.metrics import confusion_matrix, roc_curve### metrics\n",
        "import seaborn as sns### visualizations\n",
        "import datetime\n",
        "import pathlib\n",
        "import io\n",
        "import os\n",
        "import re\n",
        "import string\n",
        "import time\n",
        "from numpy import random\n",
        "import tensorflow_datasets as tfds\n",
        "import tensorflow_probability as tfp\n",
        "from tensorflow.keras.models import Model\n",
        "from tensorflow.keras.layers import Layer\n",
        "from tensorflow.keras.layers import (Dense,Flatten,InputLayer,LayerNormalization,Dropout,Input,MultiHeadAttention,Embedding,TextVectorization)\n",
        "from tensorflow.keras.losses import CategoricalCrossentropy, SparseCategoricalCrossentropy\n",
        "from tensorflow.keras.metrics import Accuracy\n",
        "from tensorflow.keras.optimizers import Adam\n",
        "from tensorflow.keras.optimizers.schedules import LearningRateSchedule\n",
        "from google.colab import drive\n",
        "from google.colab import files"
      ]
    },
    {
      "cell_type": "code",
      "execution_count": null,
      "metadata": {
        "colab": {
          "base_uri": "https://localhost:8080/",
          "height": 35
        },
        "id": "LdwxalEeyUX5",
        "outputId": "5015fd6d-7b61-4382-af4f-36d2242cb854"
      },
      "outputs": [
        {
          "data": {
            "application/vnd.google.colaboratory.intrinsic+json": {
              "type": "string"
            },
            "text/plain": [
              "'2.15.0'"
            ]
          },
          "execution_count": 3,
          "metadata": {},
          "output_type": "execute_result"
        }
      ],
      "source": [
        "tf.__version__"
      ]
    },
    {
      "cell_type": "markdown",
      "metadata": {
        "id": "cKg0HdsrYA0S"
      },
      "source": [
        "# Data Preparation"
      ]
    },
    {
      "cell_type": "markdown",
      "metadata": {
        "id": "WgU1Z8fcOSW_"
      },
      "source": [
        "## Data Download"
      ]
    },
    {
      "cell_type": "code",
      "execution_count": null,
      "metadata": {
        "colab": {
          "base_uri": "https://localhost:8080/"
        },
        "id": "4hwhov2uvDdo",
        "outputId": "294898a5-bc92-46af-9429-16f884beec40"
      },
      "outputs": [
        {
          "name": "stdout",
          "output_type": "stream",
          "text": [
            "--2024-01-27 15:12:23--  https://www.manythings.org/anki/fra-eng.zip\n",
            "Resolving www.manythings.org (www.manythings.org)... 173.254.30.110\n",
            "Connecting to www.manythings.org (www.manythings.org)|173.254.30.110|:443... connected.\n",
            "HTTP request sent, awaiting response... 200 OK\n",
            "Length: 7833145 (7.5M) [application/zip]\n",
            "Saving to: ‘fra-eng.zip’\n",
            "\n",
            "fra-eng.zip         100%[===================>]   7.47M  20.7MB/s    in 0.4s    \n",
            "\n",
            "2024-01-27 15:12:23 (20.7 MB/s) - ‘fra-eng.zip’ saved [7833145/7833145]\n",
            "\n"
          ]
        }
      ],
      "source": [
        "!wget https://www.manythings.org/anki/fra-eng.zip"
      ]
    },
    {
      "cell_type": "code",
      "execution_count": null,
      "metadata": {
        "colab": {
          "base_uri": "https://localhost:8080/"
        },
        "id": "Y-ufBPwn8_ax",
        "outputId": "e6933b07-8b35-440b-911a-29f1fc31e2fc"
      },
      "outputs": [
        {
          "name": "stdout",
          "output_type": "stream",
          "text": [
            "Archive:  /content/fra-eng.zip\n",
            "  inflating: /content/dataset/_about.txt  \n",
            "  inflating: /content/dataset/fra.txt  \n"
          ]
        }
      ],
      "source": [
        "!unzip \"/content/fra-eng.zip\" -d \"/content/dataset/\""
      ]
    },
    {
      "cell_type": "code",
      "execution_count": null,
      "metadata": {},
      "outputs": [],
      "source": []
    },
    {
      "cell_type": "markdown",
      "metadata": {
        "id": "omyb2Dq_YHbT"
      },
      "source": [
        "## Data Processing"
      ]
    },
    {
      "cell_type": "code",
      "execution_count": null,
      "metadata": {
        "id": "ywC7WnoIJeXl"
      },
      "outputs": [],
      "source": [
        "# Load the text data from a file into a tf.data.TextLineDataset object\n",
        "text_dataset=tf.data.TextLineDataset(\"/content/dataset/fra.txt\")"
      ]
    },
    {
      "cell_type": "code",
      "execution_count": null,
      "metadata": {
        "id": "QlcJxz6cJeb_"
      },
      "outputs": [],
      "source": [
        "# Define constants for vocabulary size, sequence lengths, embedding dimensions, and batch size\n",
        "VOCAB_SIZE=20000\n",
        "ENGLISH_SEQUENCE_LENGTH=32\n",
        "FRENCH_SEQUENCE_LENGTH=32\n",
        "EMBEDDING_DIM=256\n",
        "BATCH_SIZE=128"
      ]
    },
    {
      "cell_type": "code",
      "execution_count": null,
      "metadata": {
        "id": "TePer9o-JeeR"
      },
      "outputs": [],
      "source": [
        "# Create a TextVectorization layer for English and French with specified parameters\n",
        "english_vectorize_layer = TextVectorization(\n",
        "    standardize='lower_and_strip_punctuation',  # Convert text to lowercase and strip punctuation\n",
        "    max_tokens=VOCAB_SIZE,                      # Set the maximum number of tokens in the vocabulary\n",
        "    output_mode='int',                         # Output integer indices for tokens\n",
        "    output_sequence_length=ENGLISH_SEQUENCE_LENGTH  # Pad or truncate sequences to this length\n",
        ")\n",
        "\n",
        "\n",
        "french_vectorize_layer = TextVectorization(\n",
        "    standardize='lower_and_strip_punctuation',  # Convert text to lowercase and strip punctuation\n",
        "    max_tokens=VOCAB_SIZE,                      # Set the maximum number of tokens in the vocabulary\n",
        "    output_mode='int',                         # Output integer indices for tokens\n",
        "    output_sequence_length=FRENCH_SEQUENCE_LENGTH  # Pad or truncate sequences to this length\n",
        ")"
      ]
    },
    {
      "cell_type": "code",
      "execution_count": null,
      "metadata": {
        "id": "iNK3uewuQTjY"
      },
      "outputs": [],
      "source": [
        "# Function to split the text into input and output sequences\n",
        "def selector(input_text):\n",
        "  split_text=tf.strings.split(input_text,'\\t')\n",
        "  return {'input_1':split_text[0:1],'input_2':'starttoken '+split_text[1:2]},split_text[1:2]+' endtoken'"
      ]
    },
    {
      "cell_type": "code",
      "execution_count": null,
      "metadata": {
        "id": "7fcSDED_2c-z"
      },
      "outputs": [],
      "source": [
        "# Function to separate text into input and output sequences for training\n",
        "def separator(input_text):\n",
        "    split_text = tf.strings.split(input_text, '\\t')  # Split text by tab\n",
        "    # Return input and output sequences\n",
        "    return split_text[0:1], 'starttoken ' + split_text[1:2] + ' endtoken'"
      ]
    },
    {
      "cell_type": "code",
      "execution_count": null,
      "metadata": {
        "id": "ktN95hiN2pgU"
      },
      "outputs": [],
      "source": [
        "# Apply the selector function to the text dataset\n",
        "split_dataset = text_dataset.map(selector)\n",
        "\n",
        "# Create an initial dataset for English and French sequences\n",
        "init_dataset = text_dataset.map(separator)\n"
      ]
    },
    {
      "cell_type": "code",
      "execution_count": null,
      "metadata": {
        "colab": {
          "base_uri": "https://localhost:8080/"
        },
        "id": "OQkSkpd1tils",
        "outputId": "37fe07de-4f12-49cf-f4ef-39a91027cba2"
      },
      "outputs": [
        {
          "name": "stdout",
          "output_type": "stream",
          "text": [
            "({'input_1': <tf.Tensor: shape=(1,), dtype=string, numpy=array([b'Go.'], dtype=object)>, 'input_2': <tf.Tensor: shape=(1,), dtype=string, numpy=array([b'starttoken Va !'], dtype=object)>}, <tf.Tensor: shape=(1,), dtype=string, numpy=array([b'Va ! endtoken'], dtype=object)>)\n",
            "({'input_1': <tf.Tensor: shape=(1,), dtype=string, numpy=array([b'Go.'], dtype=object)>, 'input_2': <tf.Tensor: shape=(1,), dtype=string, numpy=array([b'starttoken Marche.'], dtype=object)>}, <tf.Tensor: shape=(1,), dtype=string, numpy=array([b'Marche. endtoken'], dtype=object)>)\n",
            "({'input_1': <tf.Tensor: shape=(1,), dtype=string, numpy=array([b'Go.'], dtype=object)>, 'input_2': <tf.Tensor: shape=(1,), dtype=string, numpy=array([b'starttoken En route !'], dtype=object)>}, <tf.Tensor: shape=(1,), dtype=string, numpy=array([b'En route ! endtoken'], dtype=object)>)\n"
          ]
        }
      ],
      "source": [
        "# samples\n",
        "for i in split_dataset.take(3):\n",
        "  print(i)"
      ]
    },
    {
      "cell_type": "code",
      "execution_count": null,
      "metadata": {
        "id": "_usEDYiOJeil"
      },
      "outputs": [],
      "source": [
        "english_training_data=init_dataset.map(lambda x,y:x)### input x,y and output x\n",
        "english_vectorize_layer.adapt(english_training_data)#### adapt the vectorize_layer to the training data"
      ]
    },
    {
      "cell_type": "code",
      "execution_count": null,
      "metadata": {
        "id": "dl7pxJprJek2"
      },
      "outputs": [],
      "source": [
        "french_training_data=init_dataset.map(lambda x,y:y)### input x,y and output y\n",
        "french_vectorize_layer.adapt(french_training_data)#### adapt the vectorize_layer to the training data"
      ]
    },
    {
      "cell_type": "code",
      "execution_count": null,
      "metadata": {
        "id": "4yVIMxvTJemt"
      },
      "outputs": [],
      "source": [
        "# Function to apply vectorization to the dataset\n",
        "def vectorizer(inputs,output):\n",
        "  return {'input_1':english_vectorize_layer(inputs['input_1']),\n",
        "          'input_2':french_vectorize_layer(inputs['input_2'])},french_vectorize_layer(output)"
      ]
    },
    {
      "cell_type": "code",
      "execution_count": null,
      "metadata": {
        "id": "wI9-GPpVJepF"
      },
      "outputs": [],
      "source": [
        "# Apply the vectorizer function to the split dataset\n",
        "dataset=split_dataset.map(vectorizer)"
      ]
    },
    {
      "cell_type": "code",
      "execution_count": null,
      "metadata": {
        "colab": {
          "base_uri": "https://localhost:8080/"
        },
        "id": "m_6Xtks8wPk5",
        "outputId": "c2ad6e12-bb79-445b-8442-788331bcdc9f"
      },
      "outputs": [
        {
          "name": "stdout",
          "output_type": "stream",
          "text": [
            "({'input_1': <tf.Tensor: shape=(1,), dtype=string, numpy=array([b'Go.'], dtype=object)>, 'input_2': <tf.Tensor: shape=(1,), dtype=string, numpy=array([b'starttoken Va !'], dtype=object)>}, <tf.Tensor: shape=(1,), dtype=string, numpy=array([b'Va ! endtoken'], dtype=object)>)\n",
            "({'input_1': <tf.Tensor: shape=(1,), dtype=string, numpy=array([b'Go.'], dtype=object)>, 'input_2': <tf.Tensor: shape=(1,), dtype=string, numpy=array([b'starttoken Marche.'], dtype=object)>}, <tf.Tensor: shape=(1,), dtype=string, numpy=array([b'Marche. endtoken'], dtype=object)>)\n",
            "({'input_1': <tf.Tensor: shape=(1,), dtype=string, numpy=array([b'Go.'], dtype=object)>, 'input_2': <tf.Tensor: shape=(1,), dtype=string, numpy=array([b'starttoken En route !'], dtype=object)>}, <tf.Tensor: shape=(1,), dtype=string, numpy=array([b'En route ! endtoken'], dtype=object)>)\n"
          ]
        }
      ],
      "source": [
        "# sample\n",
        "for i in split_dataset.take(3):\n",
        "  print(i)"
      ]
    },
    {
      "cell_type": "code",
      "execution_count": null,
      "metadata": {
        "colab": {
          "base_uri": "https://localhost:8080/"
        },
        "id": "FM9aenklufpC",
        "outputId": "5f663293-95e8-43b9-c6a9-2e79b8a6dcca"
      },
      "outputs": [
        {
          "name": "stdout",
          "output_type": "stream",
          "text": [
            "({'input_1': <tf.Tensor: shape=(1, 32), dtype=int64, numpy=\n",
            "array([[44,  0,  0,  0,  0,  0,  0,  0,  0,  0,  0,  0,  0,  0,  0,  0,\n",
            "         0,  0,  0,  0,  0,  0,  0,  0,  0,  0,  0,  0,  0,  0,  0,  0]])>, 'input_2': <tf.Tensor: shape=(1, 32), dtype=int64, numpy=\n",
            "array([[  2, 103,   0,   0,   0,   0,   0,   0,   0,   0,   0,   0,   0,\n",
            "          0,   0,   0,   0,   0,   0,   0,   0,   0,   0,   0,   0,   0,\n",
            "          0,   0,   0,   0,   0,   0]])>}, <tf.Tensor: shape=(1, 32), dtype=int64, numpy=\n",
            "array([[103,   3,   0,   0,   0,   0,   0,   0,   0,   0,   0,   0,   0,\n",
            "          0,   0,   0,   0,   0,   0,   0,   0,   0,   0,   0,   0,   0,\n",
            "          0,   0,   0,   0,   0,   0]])>)\n"
          ]
        }
      ],
      "source": [
        "# sample\n",
        "for i in dataset.take(1):\n",
        "  print(i)"
      ]
    },
    {
      "cell_type": "code",
      "execution_count": null,
      "metadata": {
        "id": "_WE0s6p9TiM9"
      },
      "outputs": [],
      "source": [
        "# Shuffle, unbatch, batch, and prefetch the dataset for training\n",
        "dataset=dataset.shuffle(2048).unbatch().batch(BATCH_SIZE).prefetch(buffer_size=tf.data.AUTOTUNE)"
      ]
    },
    {
      "cell_type": "code",
      "execution_count": null,
      "metadata": {
        "id": "K5JXDdrNtwRj"
      },
      "outputs": [],
      "source": [
        "NUM_BATCHES = int(200000/BATCH_SIZE)"
      ]
    },
    {
      "cell_type": "code",
      "execution_count": null,
      "metadata": {
        "id": "XQvg18V5TiO7"
      },
      "outputs": [],
      "source": [
        "# Split the dataset into training and validation sets\n",
        "train_dataset = dataset.take(int(0.9 * NUM_BATCHES))  # 90% for training\n",
        "val_dataset = dataset.skip(int(0.9 * NUM_BATCHES))  # 10% for validation"
      ]
    },
    {
      "cell_type": "code",
      "execution_count": null,
      "metadata": {},
      "outputs": [],
      "source": []
    },
    {
      "cell_type": "code",
      "execution_count": null,
      "metadata": {},
      "outputs": [],
      "source": []
    },
    {
      "cell_type": "markdown",
      "metadata": {
        "id": "nBVM2EB0Xh97"
      },
      "source": [
        "# Modeling"
      ]
    },
    {
      "cell_type": "markdown",
      "metadata": {
        "id": "UXZLSM5pkS3w"
      },
      "source": [
        "## Embedding"
      ]
    },
    {
      "cell_type": "code",
      "execution_count": null,
      "metadata": {
        "id": "c1_5MCwq0ARk"
      },
      "outputs": [],
      "source": [
        "# Purpose: Computes positional encodings for sequences to provide information about token positions, necessary for models like Transformers that do not have inherent position-awareness.\n",
        "\n",
        "def positional_encoding(model_size, SEQUENCE_LENGTH):\n",
        "  \"\"\"\n",
        "  Computes positional encoding for a sequence of given length and model size.\n",
        "\n",
        "  Args:\n",
        "      model_size (int): Dimensionality of the positional encoding vectors (embedding size).\n",
        "      SEQUENCE_LENGTH (int): Length of the sequence for which positional encodings are computed.\n",
        "\n",
        "  Returns:\n",
        "      tf.Tensor: A tensor of shape (1, SEQUENCE_LENGTH, model_size) containing the positional encodings.\n",
        "  \"\"\"\n",
        "  \n",
        "  output = []  # List to store positional encoding vectors for each position\n",
        "\n",
        "  for pos in range(SEQUENCE_LENGTH):\n",
        "      PE = np.zeros((model_size))  # Initialize a vector for the current position with zeros\n",
        "      \n",
        "      for i in range(model_size):\n",
        "          if i % 2 == 0:\n",
        "              # For even indices, use the sine function\n",
        "              PE[i] = np.sin(pos / (10000 ** (i / model_size)))\n",
        "          else:\n",
        "              # For odd indices, use the cosine function\n",
        "              PE[i] = np.cos(pos / (10000 ** ((i - 1) / model_size)))\n",
        "      \n",
        "      output.append(tf.expand_dims(PE, axis=0))  # Add the positional encoding vector to the list, expanding dims for batch dimension\n",
        "\n",
        "  out = tf.concat(output, axis=0)  # Concatenate all positional encoding vectors along the first axis (sequence length)\n",
        "  out = tf.expand_dims(out, axis=0)  # Add an additional dimension for the batch size (batch dimension)\n",
        "\n",
        "  return tf.cast(out, dtype=tf.float32)  # Cast the output tensor to float32 and return it\n"
      ]
    },
    {
      "cell_type": "code",
      "execution_count": null,
      "metadata": {
        "colab": {
          "base_uri": "https://localhost:8080/"
        },
        "id": "PD4gK6uLxY8B",
        "outputId": "bbd59e58-7749-4ba0-83c6-0385a76211c4"
      },
      "outputs": [
        {
          "name": "stdout",
          "output_type": "stream",
          "text": [
            "(1, 64, 256)\n"
          ]
        }
      ],
      "source": [
        "print(positional_encoding(256,64).shape)"
      ]
    },
    {
      "cell_type": "code",
      "execution_count": null,
      "metadata": {
        "id": "ZM8tUhJ9G0tH"
      },
      "outputs": [],
      "source": [
        "# The Embeddings class combines token embeddings with positional encodings, providing enriched token representations with positional information for sequence data.\n",
        "\n",
        "class Embeddings(Layer):\n",
        "    \"\"\"\n",
        "    Custom embedding layer that combines token embeddings with positional encodings.\n",
        "\n",
        "    Args:\n",
        "        sequence_length (int): Length of the input sequences.\n",
        "        vocab_size (int): Size of the vocabulary (number of unique tokens).\n",
        "        embed_dim (int): Dimensionality of the embedding vectors.\n",
        "    \n",
        "    Attributes:\n",
        "        token_embeddings (tf.keras.layers.Embedding): Layer for token embeddings.\n",
        "        sequence_length (int): Length of the input sequences.\n",
        "        vocab_size (int): Size of the vocabulary.\n",
        "        embed_dim (int): Dimensionality of the embedding vectors.\n",
        "    \"\"\"\n",
        "    \n",
        "    def __init__(self, sequence_length, vocab_size, embed_dim):\n",
        "        \"\"\"\n",
        "        Initialize the Embeddings layer.\n",
        "\n",
        "        Args:\n",
        "            sequence_length (int): Length of the input sequences.\n",
        "            vocab_size (int): Size of the vocabulary.\n",
        "            embed_dim (int): Dimensionality of the embedding vectors.\n",
        "        \"\"\"\n",
        "        super(Embeddings, self).__init__()\n",
        "        # Initialize the token embeddings layer\n",
        "        self.token_embeddings = Embedding(\n",
        "            input_dim=vocab_size, output_dim=embed_dim)\n",
        "        self.sequence_length = sequence_length\n",
        "        self.vocab_size = vocab_size\n",
        "        self.embed_dim = embed_dim\n",
        "\n",
        "    def call(self, inputs):\n",
        "        \"\"\"\n",
        "        Forward pass of the layer.\n",
        "\n",
        "        Args:\n",
        "            inputs (tf.Tensor): Input tensor containing token indices.\n",
        "\n",
        "        Returns:\n",
        "            tf.Tensor: Sum of token embeddings and positional encodings.\n",
        "        \"\"\"\n",
        "        # Compute token embeddings for the input tokens\n",
        "        embedded_tokens = self.token_embeddings(inputs)\n",
        "        # Compute positional encodings based on embedding dimension and sequence length\n",
        "        embedded_positions = positional_encoding(\n",
        "            self.embed_dim, self.sequence_length)\n",
        "        # Add token embeddings and positional encodings to get the final embeddings\n",
        "        return embedded_tokens + embedded_positions\n",
        "\n",
        "    def compute_mask(self, inputs, mask=None):\n",
        "        \"\"\"\n",
        "        Compute a mask for the input tensor, indicating valid positions.\n",
        "\n",
        "        Args:\n",
        "            inputs (tf.Tensor): Input tensor to compute the mask for.\n",
        "            mask (tf.Tensor, optional): Optional mask tensor (not used here).\n",
        "\n",
        "        Returns:\n",
        "            tf.Tensor: Boolean tensor where non-zero positions are marked as True.\n",
        "        \"\"\"\n",
        "        # Return a boolean mask indicating non-zero positions in the input tensor\n",
        "        return tf.math.not_equal(inputs, 0)\n"
      ]
    },
    {
      "cell_type": "code",
      "execution_count": null,
      "metadata": {
        "colab": {
          "base_uri": "https://localhost:8080/"
        },
        "id": "Sr0o-QcgD4xS",
        "outputId": "53b24182-8563-4740-8545-9ca6ece6f933"
      },
      "outputs": [
        {
          "name": "stdout",
          "output_type": "stream",
          "text": [
            "(1, 8, 512)\n"
          ]
        }
      ],
      "source": [
        "# testing\n",
        "test_input=tf.constant([[2,4,7,21,3,5,0,0]])\n",
        "emb=Embeddings(8,20000,512)\n",
        "emb_out=emb(test_input)\n",
        "print(emb_out.shape)"
      ]
    },
    {
      "cell_type": "code",
      "execution_count": null,
      "metadata": {
        "colab": {
          "base_uri": "https://localhost:8080/"
        },
        "id": "zoZ59gSaom6P",
        "outputId": "e01e26c2-9d60-4ea5-ba5c-093e9cdb4bde"
      },
      "outputs": [
        {
          "name": "stdout",
          "output_type": "stream",
          "text": [
            "tf.Tensor([[ True  True  True  True  True  True False False]], shape=(1, 8), dtype=bool)\n",
            "tf.Tensor(\n",
            "[[1 1 1 1 1 1 0 0]\n",
            " [1 1 1 1 1 1 0 0]\n",
            " [1 1 1 1 1 1 0 0]\n",
            " [1 1 1 1 1 1 0 0]\n",
            " [1 1 1 1 1 1 0 0]\n",
            " [1 1 1 1 1 1 0 0]\n",
            " [1 1 1 1 1 1 0 0]\n",
            " [1 1 1 1 1 1 0 0]], shape=(8, 8), dtype=int32)\n"
          ]
        }
      ],
      "source": [
        "# testing\n",
        "mask = emb.compute_mask(test_input)\n",
        "print(mask)\n",
        "\n",
        "\n",
        "padding_mask = tf.cast(\n",
        "    tf.repeat(mask,repeats=tf.shape(mask)[1],axis=0),\n",
        "    dtype=tf.int32)\n",
        "print(padding_mask)"
      ]
    },
    {
      "cell_type": "code",
      "execution_count": null,
      "metadata": {},
      "outputs": [],
      "source": []
    },
    {
      "cell_type": "code",
      "execution_count": null,
      "metadata": {},
      "outputs": [],
      "source": []
    },
    {
      "cell_type": "markdown",
      "metadata": {
        "id": "QaDKmgJgklY_"
      },
      "source": [
        "## Custom MultiHeadAttention"
      ]
    },
    {
      "cell_type": "code",
      "execution_count": null,
      "metadata": {
        "id": "AIRfhrVINS39"
      },
      "outputs": [],
      "source": [
        "class CustomSelfAttention(Layer):\n",
        "  def __init__(self, model_size):\n",
        "      \"\"\"\n",
        "      Initialize the CustomSelfAttention layer.\n",
        "      \n",
        "      Args:\n",
        "          model_size (int): The size of the model (dimension of the query/key/value vectors).\n",
        "      \"\"\"\n",
        "      super(CustomSelfAttention, self).__init__()\n",
        "      self.model_size = model_size\n",
        "\n",
        "  def call(self, query, key, value, masking):\n",
        "      \"\"\"\n",
        "      Perform the self-attention operation.\n",
        "      \n",
        "      Args:\n",
        "          query (Tensor): Query matrix of shape (batch_size, seq_length, model_size).\n",
        "          key (Tensor): Key matrix of shape (batch_size, seq_length, model_size).\n",
        "          value (Tensor): Value matrix of shape (batch_size, seq_length, model_size).\n",
        "          masking (Tensor): Masking tensor of shape (batch_size, seq_length, seq_length), \n",
        "                            where masked positions are set to 0 and unmasked to 1.\n",
        "      \n",
        "      Returns:\n",
        "          Tensor: The output of the self-attention layer of shape (batch_size, seq_length, model_size).\n",
        "      \"\"\"\n",
        "      ######## Compute scores by performing matrix multiplication between query and key (transpose_b=True).\n",
        "      score = tf.matmul(query, key, transpose_b=True)\n",
        "      \n",
        "      ######## Scale the scores by dividing by the square root of the model size.\n",
        "      score /= tf.math.sqrt(tf.cast(self.model_size, tf.float32))\n",
        "      \n",
        "      ######## Apply masking by adding a large negative value (-1e10) to masked positions to ensure they are not attended to.\n",
        "      masking = tf.cast(masking, dtype=tf.float32)\n",
        "      score += (1. - masking) * -1e10\n",
        "      \n",
        "      ######## Compute attention weights using the softmax function, and apply masking.\n",
        "      attention = tf.nn.softmax(score, axis=-1) * masking\n",
        "      \n",
        "      ######## Compute the output by performing matrix multiplication between attention weights and value.\n",
        "      head = tf.matmul(attention, value)\n",
        "      \n",
        "      return head\n"
      ]
    },
    {
      "cell_type": "code",
      "execution_count": null,
      "metadata": {
        "colab": {
          "base_uri": "https://localhost:8080/"
        },
        "id": "LSqZtns6YdHP",
        "outputId": "31d135ea-2f64-4747-e748-a05912d78530"
      },
      "outputs": [
        {
          "data": {
            "text/plain": [
              "<tf.Tensor: shape=(1, 8, 256), dtype=float32, numpy=\n",
              "array([[[1., 1., 1., ..., 1., 1., 1.],\n",
              "        [1., 1., 1., ..., 1., 1., 1.],\n",
              "        [1., 1., 1., ..., 1., 1., 1.],\n",
              "        ...,\n",
              "        [1., 1., 1., ..., 1., 1., 1.],\n",
              "        [1., 1., 1., ..., 1., 1., 1.],\n",
              "        [1., 1., 1., ..., 1., 1., 1.]]], dtype=float32)>"
            ]
          },
          "execution_count": 17,
          "metadata": {},
          "output_type": "execute_result"
        }
      ],
      "source": [
        "# testing\n",
        "attention=CustomSelfAttention(256)\n",
        "attention(tf.ones([1,8,256]),tf.ones([1,8,256]),tf.ones([1,8,256]),padding_mask)"
      ]
    },
    {
      "cell_type": "code",
      "execution_count": null,
      "metadata": {
        "id": "6Unruv2vNS6g"
      },
      "outputs": [],
      "source": [
        "class CustomMultiHeadAttention(Layer):\n",
        "  def __init__(self, num_heads, key_dim):\n",
        "      \"\"\"\n",
        "      Initialize the CustomMultiHeadAttention layer.\n",
        "      \n",
        "      Args:\n",
        "          num_heads (int): Number of attention heads.\n",
        "          key_dim (int): Dimension of the key, query, and value vectors.\n",
        "      \"\"\"\n",
        "      super(CustomMultiHeadAttention, self).__init__()\n",
        "\n",
        "      # Number of attention heads\n",
        "      self.num_heads = num_heads\n",
        "      \n",
        "      # Define dense layers for query, key, and value for each head\n",
        "      self.dense_q = [Dense(key_dim // num_heads) for _ in range(num_heads)]\n",
        "      self.dense_k = [Dense(key_dim // num_heads) for _ in range(num_heads)]\n",
        "      self.dense_v = [Dense(key_dim // num_heads) for _ in range(num_heads)]\n",
        "      \n",
        "      # Dense layer to project the concatenated heads back to the original key dimension\n",
        "      self.dense_o = Dense(key_dim)\n",
        "  \n",
        "      # Instance of the custom self-attention mechanism\n",
        "      self.self_attention = CustomSelfAttention(key_dim)\n",
        "\n",
        "\n",
        "  def call(self, query, key, value, attention_mask):\n",
        "      \"\"\"\n",
        "      Perform the multi-head attention operation.\n",
        "      \n",
        "      Args:\n",
        "          query (Tensor): Query matrix of shape (batch_size, seq_length, key_dim).\n",
        "          key (Tensor): Key matrix of shape (batch_size, seq_length, key_dim).\n",
        "          value (Tensor): Value matrix of shape (batch_size, seq_length, key_dim).\n",
        "          attention_mask (Tensor): Masking tensor of shape (batch_size, seq_length, seq_length),\n",
        "                                    where masked positions are set to 0 and unmasked to 1.\n",
        "      \n",
        "      Returns:\n",
        "          Tensor: The output of the multi-head attention layer of shape (batch_size, seq_length, key_dim).\n",
        "      \"\"\"\n",
        "      heads = []\n",
        "\n",
        "      # Loop through each head to compute self-attention for each\n",
        "      for i in range(self.num_heads):\n",
        "          # Apply dense layers to the query, key, and value for the current head\n",
        "          head = self.self_attention(self.dense_q[i](query), self.dense_k[i](key),\n",
        "                                      self.dense_v[i](value), attention_mask)\n",
        "          heads.append(head)\n",
        "      \n",
        "      # Concatenate the results from all heads along the last dimension\n",
        "      heads = tf.concat(heads, axis=2)\n",
        "      \n",
        "      # Apply the output dense layer to project back to the original key dimension\n",
        "      heads = self.dense_o(heads)\n",
        "      \n",
        "      return heads\n"
      ]
    },
    {
      "cell_type": "code",
      "execution_count": null,
      "metadata": {},
      "outputs": [],
      "source": []
    },
    {
      "cell_type": "code",
      "execution_count": null,
      "metadata": {},
      "outputs": [],
      "source": []
    },
    {
      "cell_type": "markdown",
      "metadata": {
        "id": "S-Y512TzkOKQ"
      },
      "source": [
        "## Encoder"
      ]
    },
    {
      "cell_type": "code",
      "execution_count": null,
      "metadata": {
        "id": "2jvze09LsnAw"
      },
      "outputs": [],
      "source": [
        "#?tf.keras.layers.MultiHeadAttention"
      ]
    },
    {
      "cell_type": "code",
      "execution_count": null,
      "metadata": {
        "id": "t5lTjZBE6M4Q"
      },
      "outputs": [],
      "source": [
        "class TransformerEncoder(Layer):\n",
        "    def __init__(self, embed_dim, dense_dim, num_heads):\n",
        "        \"\"\"\n",
        "        Initialize the TransformerEncoder layer.\n",
        "        \n",
        "        Args:\n",
        "            embed_dim (int): Dimension of the embedding vectors.\n",
        "            dense_dim (int): Dimension of the dense projection layer.\n",
        "            num_heads (int): Number of attention heads.\n",
        "        \"\"\"\n",
        "        super(TransformerEncoder, self).__init__()\n",
        "        self.embed_dim = embed_dim\n",
        "        self.dense_dim = dense_dim\n",
        "        self.num_heads = num_heads\n",
        "        \n",
        "        # Multi-head attention layer\n",
        "        self.attention = CustomMultiHeadAttention(\n",
        "            num_heads=num_heads, key_dim=embed_dim\n",
        "        )\n",
        "        \n",
        "        # Sequential dense projection layer with ReLU activation followed by a linear layer\n",
        "        self.dense_proj = tf.keras.Sequential(\n",
        "            [Dense(dense_dim, activation=\"relu\"),\n",
        "             Dense(embed_dim)]\n",
        "        )\n",
        "        \n",
        "        # Layer normalization for the residual connections\n",
        "        self.layernorm_1 = LayerNormalization()\n",
        "        self.layernorm_2 = LayerNormalization()\n",
        "        \n",
        "        # Support masking in the encoder layer\n",
        "        self.supports_masking = True\n",
        "\n",
        "    def call(self, inputs, mask=None):\n",
        "        \"\"\"\n",
        "        Perform the forward pass of the Transformer encoder layer.\n",
        "        \n",
        "        Args:\n",
        "            inputs (Tensor): Input tensor of shape (batch_size, seq_length, embed_dim).\n",
        "            mask (Tensor, optional): Optional masking tensor of shape (batch_size, seq_length) \n",
        "                                     to avoid attending to certain positions.\n",
        "        \n",
        "        Returns:\n",
        "            Tensor: The output tensor of the Transformer encoder layer of shape \n",
        "                    (batch_size, seq_length, embed_dim).\n",
        "        \"\"\"\n",
        "\n",
        "        # Prepare the padding mask for the attention mechanism, if provided\n",
        "        if mask is not None:\n",
        "            mask = tf.cast(mask[:, tf.newaxis, :], dtype=\"int32\")\n",
        "            T = tf.shape(mask)[2]\n",
        "            padding_mask = tf.repeat(mask, T, axis=1)\n",
        "        else:\n",
        "            padding_mask = None\n",
        "\n",
        "        # Apply the multi-head attention layer with the padding mask\n",
        "        attention_output = self.attention(\n",
        "            query=inputs, key=inputs, value=inputs,\n",
        "            attention_mask=padding_mask\n",
        "        )\n",
        "\n",
        "        # Add and normalize the residual connection (input + attention output)\n",
        "        proj_input = self.layernorm_1(inputs + attention_output)\n",
        "        \n",
        "        # Apply the dense projection layer\n",
        "        proj_output = self.dense_proj(proj_input)\n",
        "        \n",
        "        # Add and normalize the residual connection (proj_input + proj_output)\n",
        "        return self.layernorm_2(proj_input + proj_output)\n"
      ]
    },
    {
      "cell_type": "code",
      "execution_count": null,
      "metadata": {
        "colab": {
          "base_uri": "https://localhost:8080/"
        },
        "id": "hOgozN6bu3hv",
        "outputId": "451a2e2d-40d4-4732-bdc7-ab4e6af5a1c8"
      },
      "outputs": [
        {
          "name": "stdout",
          "output_type": "stream",
          "text": [
            "hello (1, 8, 64)\n",
            "hello (1, 8, 64)\n",
            "hello (1, 8, 64)\n",
            "hello (1, 8, 64)\n",
            "hello (1, 8, 64)\n",
            "hello (1, 8, 64)\n",
            "hello (1, 8, 64)\n",
            "hello (1, 8, 64)\n",
            "head (8, 1, 8, 64)\n",
            "(1, 8, 512)\n"
          ]
        }
      ],
      "source": [
        "# testing\n",
        "encoder_outputs = TransformerEncoder(512,2048,8)(emb_out)\n",
        "print(encoder_outputs.shape)\n"
      ]
    },
    {
      "cell_type": "markdown",
      "metadata": {
        "id": "jDTmNxkmkctq"
      },
      "source": [
        "## Decoder"
      ]
    },
    {
      "cell_type": "code",
      "execution_count": null,
      "metadata": {
        "id": "kdHTwxmfHWZW"
      },
      "outputs": [],
      "source": [
        "class TransformerDecoder(Layer):\n",
        "  def __init__(self, embed_dim, latent_dim, num_heads):\n",
        "      \"\"\"\n",
        "      Initialize the TransformerDecoder layer.\n",
        "      \n",
        "      Args:\n",
        "          embed_dim (int): Dimension of the embedding vectors.\n",
        "          latent_dim (int): Dimension of the dense projection layer.\n",
        "          num_heads (int): Number of attention heads.\n",
        "      \"\"\"\n",
        "      super(TransformerDecoder, self).__init__()\n",
        "      self.embed_dim = embed_dim\n",
        "      self.latent_dim = latent_dim\n",
        "      self.num_heads = num_heads\n",
        "      \n",
        "      # First multi-head self-attention layer (attends to the decoder's own inputs)\n",
        "      self.attention_1 = MultiHeadAttention(\n",
        "          num_heads=num_heads, key_dim=embed_dim\n",
        "      )\n",
        "      \n",
        "      # Second multi-head attention layer (attends to the encoder's output)\n",
        "      self.attention_2 = MultiHeadAttention(\n",
        "          num_heads=num_heads, key_dim=embed_dim\n",
        "      )\n",
        "      \n",
        "      # Dense projection layer with ReLU activation followed by a linear layer\n",
        "      self.dense_proj = tf.keras.Sequential(\n",
        "          [Dense(latent_dim, activation=\"relu\"), Dense(embed_dim)]\n",
        "      )\n",
        "      \n",
        "      # Layer normalization layers for the residual connections\n",
        "      self.layernorm_1 = LayerNormalization()\n",
        "      self.layernorm_2 = LayerNormalization()\n",
        "      self.layernorm_3 = LayerNormalization()\n",
        "      \n",
        "      # Support masking in the decoder layer\n",
        "      self.supports_masking = True\n",
        "\n",
        "  def call(self, inputs, encoder_outputs, enc_mask, mask=None):\n",
        "      \"\"\"\n",
        "      Perform the forward pass of the Transformer decoder layer.\n",
        "      \n",
        "      Args:\n",
        "          inputs (Tensor): Input tensor (decoder input) of shape (batch_size, seq_length, embed_dim).\n",
        "          encoder_outputs (Tensor): Encoder output tensor of shape (batch_size, seq_length, embed_dim).\n",
        "          enc_mask (Tensor): Masking tensor for the encoder outputs of shape (batch_size, seq_length).\n",
        "          mask (Tensor, optional): Optional masking tensor for the decoder input of shape \n",
        "                                    (batch_size, seq_length) to avoid attending to certain positions.\n",
        "      \n",
        "      Returns:\n",
        "          Tensor: The output tensor of the Transformer decoder layer of shape \n",
        "                  (batch_size, seq_length, embed_dim).\n",
        "      \"\"\"\n",
        "\n",
        "      # Prepare the causal mask (prevents attending to future positions in the sequence)\n",
        "      if mask is not None:\n",
        "          causal_mask = tf.linalg.band_part(\n",
        "              tf.ones([tf.shape(inputs)[0], tf.shape(inputs)[1], tf.shape(inputs)[1]], dtype=tf.int32), -1, 0\n",
        "          )\n",
        "          \n",
        "          # Convert mask and encoder mask to the correct shape and type\n",
        "          mask = tf.cast(mask[:, tf.newaxis, :], dtype=\"int32\")\n",
        "          enc_mask = tf.cast(enc_mask[:, tf.newaxis, :], dtype=\"int32\")\n",
        "          \n",
        "          # Create padding masks for the attention mechanisms\n",
        "          T = tf.shape(mask)[2]\n",
        "          padding_mask = tf.repeat(mask, T, axis=1)\n",
        "          cross_attn_mask = tf.repeat(enc_mask, T, axis=1)\n",
        "          \n",
        "          # Combine causal and padding masks\n",
        "          combined_mask = tf.minimum(padding_mask, causal_mask)\n",
        "      else:\n",
        "          combined_mask = None\n",
        "          cross_attn_mask = None\n",
        "\n",
        "      # First attention block: self-attention over the decoder's inputs\n",
        "      attention_output_1 = self.attention_1(\n",
        "          query=inputs, key=inputs, value=inputs,\n",
        "          attention_mask=combined_mask,\n",
        "      )\n",
        "      \n",
        "      # Add and normalize the residual connection (input + attention output)\n",
        "      out_1 = self.layernorm_1(inputs + attention_output_1)\n",
        "      \n",
        "      # Second attention block: attention over the encoder's outputs\n",
        "      attention_output_2 = self.attention_2(\n",
        "          query=out_1, key=encoder_outputs, value=encoder_outputs,\n",
        "          attention_mask=cross_attn_mask,\n",
        "      )\n",
        "      \n",
        "      # Add and normalize the residual connection (out_1 + attention output)\n",
        "      out_2 = self.layernorm_2(out_1 + attention_output_2)\n",
        "      \n",
        "      # Apply the dense projection layer\n",
        "      proj_output = self.dense_proj(out_2)\n",
        "      \n",
        "      # Add and normalize the residual connection (out_2 + proj_output)\n",
        "      return self.layernorm_3(out_2 + proj_output)\n"
      ]
    },
    {
      "cell_type": "code",
      "execution_count": null,
      "metadata": {
        "colab": {
          "base_uri": "https://localhost:8080/"
        },
        "id": "bm6yX6fix8_4",
        "outputId": "b3d3116c-5d77-4d82-fcc9-d995e122f253"
      },
      "outputs": [
        {
          "name": "stdout",
          "output_type": "stream",
          "text": [
            "before tf.Tensor([[ True  True  True  True  True  True False False]], shape=(1, 8), dtype=bool) (1, 8)\n",
            "the boy tf.Tensor([[[1 1 1 1 1 1 0 0]]], shape=(1, 1, 8), dtype=int32) (1, 1, 8)\n",
            "(1, 8, 512)\n"
          ]
        }
      ],
      "source": [
        "enc_mask=mask\n",
        "decoder_outputs = TransformerDecoder(512,2048,4)(emb_out,encoder_outputs,enc_mask)\n",
        "print(decoder_outputs.shape)"
      ]
    },
    {
      "cell_type": "code",
      "execution_count": null,
      "metadata": {},
      "outputs": [],
      "source": []
    },
    {
      "cell_type": "code",
      "execution_count": null,
      "metadata": {},
      "outputs": [],
      "source": []
    },
    {
      "cell_type": "markdown",
      "metadata": {
        "id": "1SPdfBx8ke-Z"
      },
      "source": [
        "## Transformer Model"
      ]
    },
    {
      "cell_type": "code",
      "execution_count": null,
      "metadata": {
        "id": "wsT7pvXfzh_E"
      },
      "outputs": [],
      "source": [
        "EMBEDDING_DIM=512\n",
        "D_FF=2048\n",
        "NUM_HEADS=8\n",
        "NUM_LAYERS=1\n",
        "NUM_EPOCHS=10"
      ]
    },
    {
      "cell_type": "code",
      "execution_count": null,
      "metadata": {
        "colab": {
          "base_uri": "https://localhost:8080/"
        },
        "id": "-7_vJmd8HWbu",
        "outputId": "73ac16d5-9cd9-419f-943f-c097b31756a6"
      },
      "outputs": [
        {
          "name": "stdout",
          "output_type": "stream",
          "text": [
            "Model: \"transformer\"\n",
            "__________________________________________________________________________________________________\n",
            " Layer (type)                   Output Shape         Param #     Connected to                     \n",
            "==================================================================================================\n",
            " input_1 (InputLayer)           [(None, None)]       0           []                               \n",
            "                                                                                                  \n",
            " input_2 (InputLayer)           [(None, None)]       0           []                               \n",
            "                                                                                                  \n",
            " embeddings_3 (Embeddings)      (None, 32, 512)      10240000    ['input_1[0][0]']                \n",
            "                                                                                                  \n",
            " embeddings_4 (Embeddings)      (None, 32, 512)      10240000    ['input_2[0][0]']                \n",
            "                                                                                                  \n",
            " transformer_encoder_3 (Transfo  (None, 32, 512)     10503168    ['embeddings_3[0][0]']           \n",
            " rmerEncoder)                                                                                     \n",
            "                                                                                                  \n",
            " tf.math.not_equal_1 (TFOpLambd  (None, None)        0           ['input_1[0][0]']                \n",
            " a)                                                                                               \n",
            "                                                                                                  \n",
            " transformer_decoder_3 (Transfo  (None, 32, 512)     18905600    ['embeddings_4[0][0]',           \n",
            " rmerDecoder)                                                     'transformer_encoder_3[0][0]',  \n",
            "                                                                  'tf.math.not_equal_1[0][0]']    \n",
            "                                                                                                  \n",
            " dropout_4 (Dropout)            (None, 32, 512)      0           ['transformer_decoder_3[0][0]']  \n",
            "                                                                                                  \n",
            " dense_17 (Dense)               (None, 32, 20000)    10260000    ['dropout_4[0][0]']              \n",
            "                                                                                                  \n",
            "==================================================================================================\n",
            "Total params: 60,148,768\n",
            "Trainable params: 60,148,768\n",
            "Non-trainable params: 0\n",
            "__________________________________________________________________________________________________\n"
          ]
        }
      ],
      "source": [
        "# Define the input layer for the encoder (English input sequence)\n",
        "encoder_inputs = Input(shape=(None,), dtype=\"int64\", name=\"input_1\")\n",
        "# Create the embedding layer for the encoder input\n",
        "emb = Embeddings(ENGLISH_SEQUENCE_LENGTH, VOCAB_SIZE, EMBEDDING_DIM)\n",
        "# Embed the encoder inputs\n",
        "x = emb(encoder_inputs)\n",
        "# Compute the mask for the encoder inputs\n",
        "enc_mask = emb.compute_mask(encoder_inputs)\n",
        "\n",
        "# Apply the Transformer encoder layers sequentially\n",
        "for _ in range(NUM_LAYERS):\n",
        "    x = TransformerEncoder(EMBEDDING_DIM, D_FF, NUM_HEADS)(x)\n",
        "\n",
        "# Final encoder output after applying all encoder layers\n",
        "encoder_outputs = x\n",
        "\n",
        "\n",
        "\n",
        "# -------------------- decoder part ---------------\n",
        "\n",
        "# Define the input layer for the decoder (French input sequence)\n",
        "decoder_inputs = Input(shape=(None,), dtype=\"int64\", name=\"input_2\")\n",
        "# Embed the decoder inputs\n",
        "x = Embeddings(FRENCH_SEQUENCE_LENGTH, VOCAB_SIZE, EMBEDDING_DIM)(decoder_inputs)\n",
        "\n",
        "# Apply the Transformer decoder layers sequentially\n",
        "for i in range(NUM_LAYERS):\n",
        "    x = TransformerDecoder(EMBEDDING_DIM, D_FF, NUM_HEADS)(x, encoder_outputs, enc_mask)\n",
        "\n",
        "# Apply a dropout layer for regularization\n",
        "x = tf.keras.layers.Dropout(0.5)(x)\n",
        "# Apply the final dense layer with softmax activation to predict the output sequence\n",
        "decoder_outputs = Dense(VOCAB_SIZE, activation=\"softmax\")(x)\n",
        "# Define the complete Transformer model with encoder and decoder inputs and outputs\n",
        "transformer = tf.keras.Model(\n",
        "    [encoder_inputs, decoder_inputs], decoder_outputs, name=\"transformer\"\n",
        ")\n",
        "\n",
        "\n",
        "# Print a summary of the Transformer model\n",
        "transformer.summary()\n"
      ]
    },
    {
      "cell_type": "code",
      "execution_count": null,
      "metadata": {},
      "outputs": [],
      "source": []
    },
    {
      "cell_type": "code",
      "execution_count": null,
      "metadata": {},
      "outputs": [],
      "source": []
    },
    {
      "cell_type": "markdown",
      "metadata": {
        "id": "urO3w5e971Hp"
      },
      "source": [
        "# Training"
      ]
    },
    {
      "cell_type": "code",
      "execution_count": null,
      "metadata": {
        "id": "-BGwG2PlbZAB"
      },
      "outputs": [],
      "source": [
        "class Scheduler(LearningRateSchedule):\n",
        "    def __init__(self, d_model, warmup_steps):\n",
        "        \"\"\"\n",
        "        Initialize the learning rate scheduler.\n",
        "        \n",
        "        Args:\n",
        "            d_model (int): Dimension of the model (usually the embedding dimension).\n",
        "            warmup_steps (int): Number of steps during which the learning rate is increased.\n",
        "        \"\"\"\n",
        "        super(Scheduler, self).__init__()\n",
        "        \n",
        "        # Cast the model dimension and warmup steps to float64 for precision\n",
        "        self.d_model = tf.cast(d_model, tf.float64)\n",
        "        self.warmup_steps = tf.cast(warmup_steps, dtype=tf.float64)\n",
        "\n",
        "    def __call__(self, step):\n",
        "        \"\"\"\n",
        "        Compute the learning rate for a given training step.\n",
        "        \n",
        "        Args:\n",
        "            step (int or Tensor): The current training step.\n",
        "        \n",
        "        Returns:\n",
        "            Tensor: The computed learning rate for the given step.\n",
        "        \"\"\"\n",
        "        # Cast the current step to float64 for precision\n",
        "        step = tf.cast(step, dtype=tf.float64)\n",
        "        \n",
        "        # Calculate the learning rate using the formula from the \"Attention Is All You Need\" paper\n",
        "        learning_rate = (self.d_model**(-0.5)) * tf.math.minimum(\n",
        "            step**(-0.5), step * (self.warmup_steps ** -1.5)\n",
        "        )\n",
        "        \n",
        "        return learning_rate\n"
      ]
    },
    {
      "cell_type": "code",
      "execution_count": null,
      "metadata": {
        "id": "OzXSQmVEeDsR"
      },
      "outputs": [],
      "source": [
        "WARM_UP_STEPS = 4000\n",
        "lr_scheduled = Scheduler(EMBEDDING_DIM, WARM_UP_STEPS)"
      ]
    },
    {
      "cell_type": "code",
      "execution_count": null,
      "metadata": {
        "id": "iAKCOX98HWd9"
      },
      "outputs": [],
      "source": [
        "transformer.compile(\n",
        "    loss=tf.keras.losses.SparseCategoricalCrossentropy(),\n",
        "    optimizer = Adam(lr_scheduled)\n",
        "    )"
      ]
    },
    {
      "cell_type": "code",
      "execution_count": null,
      "metadata": {
        "colab": {
          "base_uri": "https://localhost:8080/"
        },
        "id": "2529VjOrVuGe",
        "outputId": "61d675e5-21c4-4b21-d487-252e028ccdd5"
      },
      "outputs": [
        {
          "name": "stdout",
          "output_type": "stream",
          "text": [
            "Epoch 1/10\n",
            "1405/1405 [==============================] - 365s 237ms/step - loss: 5.4511 - val_loss: 4.7071\n",
            "Epoch 2/10\n",
            "1405/1405 [==============================] - 213s 151ms/step - loss: 3.3392 - val_loss: 3.7340\n",
            "Epoch 3/10\n",
            "1405/1405 [==============================] - 211s 149ms/step - loss: 2.6036 - val_loss: 3.3412\n",
            "Epoch 4/10\n",
            "1405/1405 [==============================] - 208s 148ms/step - loss: 2.1854 - val_loss: 3.0057\n",
            "Epoch 5/10\n",
            "1405/1405 [==============================] - 208s 148ms/step - loss: 1.9171 - val_loss: 2.8613\n",
            "Epoch 6/10\n",
            "1405/1405 [==============================] - 208s 148ms/step - loss: 1.7524 - val_loss: 2.7807\n",
            "Epoch 7/10\n",
            "1405/1405 [==============================] - 209s 148ms/step - loss: 1.6374 - val_loss: 2.7714\n",
            "Epoch 8/10\n",
            "1405/1405 [==============================] - 207s 147ms/step - loss: 1.5560 - val_loss: 2.7180\n",
            "Epoch 9/10\n",
            "1405/1405 [==============================] - 208s 148ms/step - loss: 1.4913 - val_loss: 2.7244\n",
            "Epoch 10/10\n",
            "1405/1405 [==============================] - 207s 147ms/step - loss: 1.4406 - val_loss: 2.7238\n"
          ]
        }
      ],
      "source": [
        "history=transformer.fit(\n",
        "    train_dataset,\n",
        "    validation_data=val_dataset,\n",
        "    epochs=10)"
      ]
    },
    {
      "cell_type": "code",
      "execution_count": null,
      "metadata": {
        "id": "3RoBvoMzeSPx"
      },
      "outputs": [],
      "source": [
        "transformer.save_weights('transformers.h5')"
      ]
    },
    {
      "cell_type": "code",
      "execution_count": null,
      "metadata": {
        "colab": {
          "base_uri": "https://localhost:8080/",
          "height": 472
        },
        "id": "rj3wLwSW7EMb",
        "outputId": "6e6b320c-526b-4c82-f8f1-09a052d192dc"
      },
      "outputs": [
        {
          "data": {
            "image/png": "[encoded data removed]",
            "text/plain": [
              "<Figure size 640x480 with 1 Axes>"
            ]
          },
          "metadata": {},
          "output_type": "display_data"
        }
      ],
      "source": [
        "plt.plot(history.history['loss'])\n",
        "plt.plot(history.history['val_loss'])\n",
        "plt.title('model_loss')\n",
        "plt.ylabel('loss')\n",
        "plt.xlabel('epoch')\n",
        "plt.legend(['train', 'val'], loc='upper left')\n",
        "plt.show()"
      ]
    },
    {
      "cell_type": "code",
      "execution_count": null,
      "metadata": {
        "colab": {
          "base_uri": "https://localhost:8080/"
        },
        "id": "pWJfUFU9VrQx",
        "outputId": "2b2a9972-d500-4850-afa0-988d349125e0"
      },
      "outputs": [
        {
          "name": "stdout",
          "output_type": "stream",
          "text": [
            "375/375 [==============================] - 53s 46ms/step - loss: 2.7233\n"
          ]
        },
        {
          "data": {
            "text/plain": [
              "2.7233364582061768"
            ]
          },
          "execution_count": 70,
          "metadata": {},
          "output_type": "execute_result"
        }
      ],
      "source": [
        "transformer.evaluate(val_dataset)"
      ]
    },
    {
      "cell_type": "code",
      "execution_count": null,
      "metadata": {},
      "outputs": [],
      "source": []
    },
    {
      "cell_type": "code",
      "execution_count": null,
      "metadata": {},
      "outputs": [],
      "source": []
    },
    {
      "cell_type": "markdown",
      "metadata": {
        "id": "4i1ajAymaDoF"
      },
      "source": [
        "# Testing"
      ]
    },
    {
      "cell_type": "code",
      "execution_count": null,
      "metadata": {
        "id": "b5vMnTM62Cx_"
      },
      "outputs": [],
      "source": [
        "# Create a dictionary mapping from index to word for the French vocabulary.\n",
        "# `index_to_word` will map each index (from 0 to the size of the vocabulary) to its corresponding word.\n",
        "# The vocabulary is obtained from the `french_vectorize_layer`.\n",
        "index_to_word = {x: y for x, y in zip(range(len(french_vectorize_layer.get_vocabulary())),\n",
        "                                      french_vectorize_layer.get_vocabulary())}\n"
      ]
    },
    {
      "cell_type": "code",
      "execution_count": null,
      "metadata": {
        "id": "HiWzshkMKfQg"
      },
      "outputs": [],
      "source": [
        "def translator(english_sentence):\n",
        "    \"\"\"\n",
        "    Translate an English sentence into French using the trained Transformer model.\n",
        "    \n",
        "    Args:\n",
        "        english_sentence (str): The input sentence in English.\n",
        "    \n",
        "    Returns:\n",
        "        str: The translated sentence in French.\n",
        "    \"\"\"\n",
        "\n",
        "    # Tokenize the English sentence using the vectorization layer\n",
        "    tokenized_english_sentence = english_vectorize_layer([english_sentence])\n",
        "    \n",
        "    # Initialize the shifted target sequence with the start token\n",
        "    shifted_target = 'starttoken'\n",
        "    \n",
        "    # Loop to generate each word in the translated French sentence\n",
        "    for i in range(FRENCH_SEQUENCE_LENGTH):\n",
        "        # Tokenize the current shifted target sequence\n",
        "        tokenized_shifted_target = french_vectorize_layer([shifted_target])\n",
        "        \n",
        "        # Predict the next word using the Transformer model\n",
        "        output = transformer.predict([tokenized_english_sentence, tokenized_shifted_target])\n",
        "        \n",
        "        # Get the index of the predicted word with the highest probability\n",
        "        french_word_index = tf.argmax(output, axis=-1)[0][i].numpy()\n",
        "        \n",
        "        # Convert the word index to the corresponding French word\n",
        "        current_word = index_to_word[french_word_index]\n",
        "        \n",
        "        # Stop if the end token is predicted\n",
        "        if (current_word == 'endtoken'):\n",
        "            break\n",
        "        \n",
        "        # Append the predicted word to the shifted target sequence\n",
        "        shifted_target += ' ' + current_word\n",
        "    \n",
        "    # Return the translated sentence, excluding the 'starttoken'\n",
        "    return shifted_target[11:]\n"
      ]
    },
    {
      "cell_type": "code",
      "execution_count": null,
      "metadata": {
        "colab": {
          "base_uri": "https://localhost:8080/",
          "height": 191
        },
        "id": "f1BQFbrdKfVZ",
        "outputId": "4d574f8e-5a3e-4bbd-ee4b-0f491c134cb5"
      },
      "outputs": [
        {
          "name": "stdout",
          "output_type": "stream",
          "text": [
            "1/1 [==============================] - 0s 46ms/step\n",
            "1/1 [==============================] - 0s 43ms/step\n",
            "1/1 [==============================] - 0s 42ms/step\n",
            "1/1 [==============================] - 0s 42ms/step\n",
            "1/1 [==============================] - 0s 43ms/step\n",
            "1/1 [==============================] - 0s 41ms/step\n",
            "1/1 [==============================] - 0s 66ms/step\n",
            "1/1 [==============================] - 0s 43ms/step\n",
            "1/1 [==============================] - 0s 45ms/step\n"
          ]
        },
        {
          "data": {
            "application/vnd.google.colaboratory.intrinsic+json": {
              "type": "string"
            },
            "text/plain": [
              "'astu déjà regardé au foot sous la pluie'"
            ]
          },
          "execution_count": 102,
          "metadata": {},
          "output_type": "execute_result"
        }
      ],
      "source": [
        "translator('Have you ever watched soccer under the rain?')"
      ]
    },
    {
      "cell_type": "code",
      "execution_count": null,
      "metadata": {
        "colab": {
          "base_uri": "https://localhost:8080/",
          "height": 174
        },
        "id": "je_d1YvagbZO",
        "outputId": "82fc31d3-5a9f-4b64-9fb7-ebcfcd926336"
      },
      "outputs": [
        {
          "name": "stdout",
          "output_type": "stream",
          "text": [
            "1/1 [==============================] - 0s 43ms/step\n",
            "1/1 [==============================] - 0s 51ms/step\n",
            "1/1 [==============================] - 0s 44ms/step\n",
            "1/1 [==============================] - 0s 55ms/step\n",
            "1/1 [==============================] - 0s 42ms/step\n",
            "1/1 [==============================] - 0s 49ms/step\n",
            "1/1 [==============================] - 0s 44ms/step\n",
            "1/1 [==============================] - 0s 49ms/step\n"
          ]
        },
        {
          "data": {
            "application/vnd.google.colaboratory.intrinsic+json": {
              "type": "string"
            },
            "text/plain": [
              "'quel est ton nom de ton nom'"
            ]
          },
          "execution_count": 103,
          "metadata": {},
          "output_type": "execute_result"
        }
      ],
      "source": [
        "translator(\"what is your name?\")"
      ]
    },
    {
      "cell_type": "code",
      "execution_count": null,
      "metadata": {
        "colab": {
          "base_uri": "https://localhost:8080/",
          "height": 174
        },
        "id": "BtuuqPkgVNB0",
        "outputId": "9692162c-a571-4b5f-f380-bbddf3672934"
      },
      "outputs": [
        {
          "name": "stdout",
          "output_type": "stream",
          "text": [
            "1/1 [==============================] - 0s 31ms/step\n",
            "1/1 [==============================] - 0s 30ms/step\n",
            "1/1 [==============================] - 0s 36ms/step\n",
            "1/1 [==============================] - 0s 28ms/step\n",
            "1/1 [==============================] - 0s 32ms/step\n",
            "1/1 [==============================] - 0s 30ms/step\n",
            "1/1 [==============================] - 0s 29ms/step\n",
            "1/1 [==============================] - 0s 28ms/step\n"
          ]
        },
        {
          "data": {
            "application/vnd.google.colaboratory.intrinsic+json": {
              "type": "string"
            },
            "text/plain": [
              "'mon hôtel ma dit de vous appeler'"
            ]
          },
          "execution_count": 105,
          "metadata": {},
          "output_type": "execute_result"
        }
      ],
      "source": [
        "translator('My hotel told me to call you. ')"
      ]
    },
    {
      "cell_type": "code",
      "execution_count": null,
      "metadata": {
        "colab": {
          "base_uri": "https://localhost:8080/",
          "height": 174
        },
        "id": "fekzqiwGerZd",
        "outputId": "b328ceb0-11cf-4ab2-a513-bc04f63a3809"
      },
      "outputs": [
        {
          "name": "stdout",
          "output_type": "stream",
          "text": [
            "1/1 [==============================] - 0s 31ms/step\n",
            "1/1 [==============================] - 0s 33ms/step\n",
            "1/1 [==============================] - 0s 33ms/step\n",
            "1/1 [==============================] - 0s 32ms/step\n",
            "1/1 [==============================] - 0s 28ms/step\n",
            "1/1 [==============================] - 0s 32ms/step\n",
            "1/1 [==============================] - 0s 36ms/step\n",
            "1/1 [==============================] - 0s 28ms/step\n"
          ]
        },
        {
          "data": {
            "application/vnd.google.colaboratory.intrinsic+json": {
              "type": "string"
            },
            "text/plain": [
              "'elle lui a donné largent de largent'"
            ]
          },
          "execution_count": 110,
          "metadata": {},
          "output_type": "execute_result"
        }
      ],
      "source": [
        "translator('She handed him the money')"
      ]
    },
    {
      "cell_type": "code",
      "execution_count": null,
      "metadata": {},
      "outputs": [],
      "source": []
    },
    {
      "cell_type": "code",
      "execution_count": null,
      "metadata": {},
      "outputs": [],
      "source": []
    },
    {
      "cell_type": "code",
      "execution_count": null,
      "metadata": {
        "id": "1SFcAw__gv8B"
      },
      "outputs": [],
      "source": []
    }
  ],
  "metadata": {
    "colab": {
      "provenance": [],
      "toc_visible": true
    },
    "kernelspec": {
      "display_name": "Python 3",
      "name": "python3"
    },
    "language_info": {
      "name": "python"
    }
  },
  "nbformat": 4,
  "nbformat_minor": 0
}
